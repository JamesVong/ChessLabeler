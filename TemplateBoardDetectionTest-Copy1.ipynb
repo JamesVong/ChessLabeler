{
 "cells": [
  {
   "cell_type": "code",
   "execution_count": 1,
   "id": "50279df9-6c56-4e13-a53a-bb771c2b9dfd",
   "metadata": {},
   "outputs": [],
   "source": [
    "import cv2\n",
    "import os\n",
    "\n",
    "VIDEO_DIRECTORY = \"DownloadedVideos\"\n",
    "INTERVAL_SECONDS = 33\n",
    "\n",
    "def getVideoFrames(video_name):\n",
    "    captured_frames = []        \n",
    "    \n",
    "    for video_file in os.listdir(VIDEO_DIRECTORY):\n",
    "        video_path = os.path.join(VIDEO_DIRECTORY, video_file)\n",
    "        \n",
    "        if video_path.endswith(('.mp4', '.avi', '.mov', '.mkv')) and video_name in video_path:\n",
    "            video_capture = cv2.VideoCapture(video_path)\n",
    "            fps = video_capture.get(cv2.CAP_PROP_FPS)\n",
    "            frame_interval = int(fps * INTERVAL_SECONDS)\n",
    "            \n",
    "            frame_count = 0\n",
    "            while True:\n",
    "                # Set position to the next frame to capture\n",
    "                video_capture.set(cv2.CAP_PROP_POS_FRAMES, frame_count)\n",
    "                success, frame = video_capture.read()\n",
    "                \n",
    "                if success:\n",
    "                    captured_frames.append((int(frame_count / fps), frame))\n",
    "                    if len(captured_frames) % 100 == 0:\n",
    "                        print(f\"Captured frame at {frame_count / fps:.2f} seconds in {video_file}\")\n",
    "                    frame_count += frame_interval\n",
    "                else:\n",
    "                    break\n",
    "    \n",
    "            video_capture.release()\n",
    "            \n",
    "    return captured_frames"
   ]
  },
  {
   "cell_type": "code",
   "execution_count": 2,
   "id": "68b84a04-3b40-4c7c-8ae2-b01d2878351d",
   "metadata": {},
   "outputs": [
    {
     "name": "stdout",
     "output_type": "stream",
     "text": [
      "CPU times: user 2.25 s, sys: 76.9 ms, total: 2.32 s\n",
      "Wall time: 501 ms\n"
     ]
    }
   ],
   "source": [
    "%%time\n",
    "frames_3I_ESQVyxNc = getVideoFrames(\"3I_ESQVyxNc\")"
   ]
  },
  {
   "cell_type": "code",
   "execution_count": 3,
   "id": "1ec026a0-d43f-4d60-bc53-b8d57d9da83c",
   "metadata": {},
   "outputs": [
    {
     "name": "stdout",
     "output_type": "stream",
     "text": [
      "32\n"
     ]
    }
   ],
   "source": [
    "print(len(frames_3I_ESQVyxNc))"
   ]
  },
  {
   "cell_type": "code",
   "execution_count": 4,
   "id": "4e703114-9c48-4df9-b9bd-c280fcc7c9a8",
   "metadata": {},
   "outputs": [],
   "source": [
    "from TemplateBoardDetector import TemplateBoardDetector\n",
    "\n",
    "boardDetector = TemplateBoardDetector({}, cv2.imread(\"Assets/chessboard.png\"))"
   ]
  },
  {
   "cell_type": "code",
   "execution_count": 5,
   "id": "d267e447-972c-4108-8965-0a186ed16a5c",
   "metadata": {},
   "outputs": [
    {
     "name": "stdout",
     "output_type": "stream",
     "text": [
      "CPU times: user 15 s, sys: 2.16 s, total: 17.2 s\n",
      "Wall time: 7.57 s\n"
     ]
    }
   ],
   "source": [
    "%%time\n",
    "for timestamp, frame in frames_3I_ESQVyxNc:\n",
    "    boardDetector.detect(frame)"
   ]
  },
  {
   "cell_type": "code",
   "execution_count": 6,
   "id": "5def23c9-3289-4665-81fd-642b90ac723c",
   "metadata": {},
   "outputs": [
    {
     "name": "stdout",
     "output_type": "stream",
     "text": [
      "CPU times: user 3.16 s, sys: 108 ms, total: 3.26 s\n",
      "Wall time: 735 ms\n"
     ]
    }
   ],
   "source": [
    "%%time\n",
    "frames_9dQzTnvsNG4 = getVideoFrames(\"9dQzTnvsNG4\")"
   ]
  },
  {
   "cell_type": "code",
   "execution_count": 7,
   "id": "fb1d2532-5b61-40ef-ac37-c1fafc019b4e",
   "metadata": {},
   "outputs": [
    {
     "name": "stdout",
     "output_type": "stream",
     "text": [
      "57\n"
     ]
    }
   ],
   "source": [
    "print(len(frames_9dQzTnvsNG4))"
   ]
  },
  {
   "cell_type": "code",
   "execution_count": 8,
   "id": "44189752-4bf3-48ea-b5f4-d58c8c8381c1",
   "metadata": {},
   "outputs": [
    {
     "name": "stdout",
     "output_type": "stream",
     "text": [
      "CPU times: user 27 s, sys: 3.96 s, total: 30.9 s\n",
      "Wall time: 13.6 s\n"
     ]
    }
   ],
   "source": [
    "%%time\n",
    "for timestamp, frame in frames_9dQzTnvsNG4:\n",
    "    boardDetector.detect(frame)"
   ]
  },
  {
   "cell_type": "code",
   "execution_count": 9,
   "id": "16edf901-7070-4ff7-a946-f378fa263a61",
   "metadata": {},
   "outputs": [],
   "source": [
    "frames__B4lR3NYwI8 = getVideoFrames(\"_B4lR3NYwI8\")"
   ]
  },
  {
   "cell_type": "code",
   "execution_count": 10,
   "id": "84e1defd-51ae-44bf-addc-18a7ad68a108",
   "metadata": {},
   "outputs": [
    {
     "data": {
      "text/plain": [
       "41"
      ]
     },
     "execution_count": 10,
     "metadata": {},
     "output_type": "execute_result"
    }
   ],
   "source": [
    "len(frames__B4lR3NYwI8)"
   ]
  },
  {
   "cell_type": "code",
   "execution_count": 11,
   "id": "c3312189-ebe0-4f22-ad70-d055027340ea",
   "metadata": {},
   "outputs": [
    {
     "name": "stdout",
     "output_type": "stream",
     "text": [
      "CPU times: user 19.4 s, sys: 2.85 s, total: 22.3 s\n",
      "Wall time: 9.7 s\n"
     ]
    }
   ],
   "source": [
    "%%time\n",
    "for timestamp, frame in frames__B4lR3NYwI8:\n",
    "    boardDetector.detect(frame)"
   ]
  },
  {
   "cell_type": "code",
   "execution_count": null,
   "id": "e736c76d-0548-4b54-8855-7fc8d41e760f",
   "metadata": {},
   "outputs": [],
   "source": []
  }
 ],
 "metadata": {
  "kernelspec": {
   "display_name": "Python 3 (ipykernel)",
   "language": "python",
   "name": "python3"
  },
  "language_info": {
   "codemirror_mode": {
    "name": "ipython",
    "version": 3
   },
   "file_extension": ".py",
   "mimetype": "text/x-python",
   "name": "python",
   "nbconvert_exporter": "python",
   "pygments_lexer": "ipython3",
   "version": "3.9.19"
  }
 },
 "nbformat": 4,
 "nbformat_minor": 5
}
